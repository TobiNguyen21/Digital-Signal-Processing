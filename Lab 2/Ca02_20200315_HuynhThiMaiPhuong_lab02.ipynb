{
 "cells": [
  {
   "cell_type": "markdown",
   "metadata": {
    "colab_type": "text",
    "id": "x-C6ywwJKg-1"
   },
   "source": [
    "#### Khoa Điện tử Viễn thông- Trường Đại học Khoa học tự nhiên<br>\n",
    "-------------------------------------------------------------------------\n",
    "# <center>Bài 2: HỆ THỐNG RỜI RẠC TRONG MIỀN THỜI GIAN </center><br>\n",
    "Nhóm: <br>\n",
    "Họ và tên: <br>\n",
    "MSSV:\n",
    "#### Mục đích:\n",
    "> * Minh họa hoạt động của hệ thống rời rạc thời gian LTI <br>\n",
    "> * Minh họa các tính chất trong miền thời gian của hệ thống rời rạc thời gian LTI<br>"
   ]
  },
  {
   "cell_type": "markdown",
   "metadata": {
    "colab_type": "text",
    "id": "JVrctK1ExOn_"
   },
   "source": [
    "Thêm thư viện vào project"
   ]
  },
  {
   "cell_type": "code",
   "execution_count": 3,
   "metadata": {
    "colab": {},
    "colab_type": "code",
    "id": "OF-TtTiFt32b"
   },
   "outputs": [],
   "source": [
    "#Thêm thư viện\n",
    "import matplotlib.pyplot as plt\n",
    "from scipy import signal\n",
    "import numpy as np"
   ]
  },
  {
   "cell_type": "markdown",
   "metadata": {
    "colab_type": "text",
    "id": "ia3fgGJXmeSm"
   },
   "source": [
    "Bài 1a: <br>\n",
    "> Xem hệ thống rời rạc thời gian có phương trình tín hiệu vào ra: $ y(n) = 1.5y(n−1)−0.85y(n−2) + x(n)$ <br>\n",
    "Điều kiện ban đầu của hệ thống $y(−2) = y(−1) = 0.$ <br>\n",
    "Đoạn code sau đây tính và vẽ 10 giá trị đầu tiên của y(n) ứng với tín hiệu vào $x = [1, 3, -2, 4, -6, 8, 7, 15, 12, 0]$\n"
   ]
  },
  {
   "cell_type": "code",
   "execution_count": 4,
   "metadata": {
    "colab": {
     "base_uri": "https://localhost:8080/",
     "height": 393
    },
    "colab_type": "code",
    "id": "y-Zv6DIlmjPu",
    "outputId": "0ccb865a-6266-4a54-dc54-0022291d587f"
   },
   "outputs": [
    {
     "data": {
      "text/plain": [
       "Text(0, 0.5, 'Biên độ')"
      ]
     },
     "execution_count": 4,
     "metadata": {},
     "output_type": "execute_result"
    },
    {
     "data": {
      "image/png": "[encoded data removed]",
      "text/plain": [
       "<Figure size 432x288 with 2 Axes>"
      ]
     },
     "metadata": {
      "needs_background": "light"
     },
     "output_type": "display_data"
    }
   ],
   "source": [
    "import matplotlib.pyplot as plt\n",
    "from scipy import signal\n",
    "import numpy as np\n",
    "n = np.arange(10)\n",
    "x = [1, 3, -2, 4, -6, 8, 7, 15, 12, 0] #Khai báo tín hiệu x\n",
    "y = np.zeros(12) #Khởi tạo mảng y gồm 12 phần tử có giá trị 0\n",
    "for i in range(2,12): #i chạy từ 2 đến 11\n",
    "    y[i] = 1.5*y[i-1] - 0.85*y[i-2] + x[i-2] #Lưu ý đến x[i-2]\n",
    "y = y[2:12] #Gán lại giá trị y bằng phần tử 2 đến 11\n",
    "plt.subplot(2, 1, 1)\n",
    "plt.stem(n,x)\n",
    "plt.title(\"Tín hiệu vào\")\n",
    "plt.xlabel(\"Chỉ số n\")\n",
    "plt.ylabel(\"Biên độ\")\n",
    "plt.subplot(2, 1, 2)\n",
    "plt.stem(n,y)\n",
    "plt.title(\"Tín hiệu ra\")\n",
    "plt.xlabel(\"Chỉ số n\")\n",
    "plt.ylabel(\"Biên độ\")"
   ]
  },
  {
   "cell_type": "code",
   "execution_count": 5,
   "metadata": {},
   "outputs": [
    {
     "data": {
      "text/plain": [
       "Text(0, 0.5, 'Biên độ')"
      ]
     },
     "execution_count": 5,
     "metadata": {},
     "output_type": "execute_result"
    },
    {
     "data": {
      "image/png": "[encoded data removed]",
      "text/plain": [
       "<Figure size 432x288 with 2 Axes>"
      ]
     },
     "metadata": {
      "needs_background": "light"
     },
     "output_type": "display_data"
    }
   ],
   "source": [
    "#Cách 2\n",
    "import matplotlib.pyplot as plt\n",
    "from scipy import signal\n",
    "import numpy as np\n",
    "n = np.arange(10)\n",
    "x = [1, 3, -2, 4, -6, 8, 7, 15, 12, 0]\n",
    "y = np.zeros(10)\n",
    "for i in range(0,10): #range(10)\n",
    "    y[i] = 1.5*y[i-1] - 0.85*y[i-2] + x[i]\n",
    "plt.subplot(2, 1, 1)\n",
    "plt.stem(n,x)\n",
    "plt.title(\"Tín hiệu vào\")\n",
    "plt.xlabel(\"Chỉ số n\")\n",
    "plt.ylabel(\"Biên độ\")\n",
    "plt.subplot(2, 1, 2)\n",
    "plt.stem(n,y)\n",
    "plt.title(\"Tín hiệu ra\")\n",
    "plt.xlabel(\"Chỉ số n\")\n",
    "plt.ylabel(\"Biên độ\")"
   ]
  },
  {
   "cell_type": "markdown",
   "metadata": {
    "colab_type": "text",
    "id": "MSwJm-b3sxLN"
   },
   "source": [
    "Bài 1b:<br>\n",
    " > Thực hiện lại bài 1a sử dụng hàm $lfilter()$"
   ]
  },
  {
   "cell_type": "code",
   "execution_count": 6,
   "metadata": {
    "colab": {
     "base_uri": "https://localhost:8080/",
     "height": 393
    },
    "colab_type": "code",
    "id": "2BQqqMQ5s0-O",
    "outputId": "7b49fb75-8466-487e-90e4-447f4a5e33fc"
   },
   "outputs": [
    {
     "data": {
      "text/plain": [
       "Text(0, 0.5, 'Biên độ')"
      ]
     },
     "execution_count": 6,
     "metadata": {},
     "output_type": "execute_result"
    },
    {
     "data": {
      "image/png": "[encoded data removed]",
      "text/plain": [
       "<Figure size 432x288 with 2 Axes>"
      ]
     },
     "metadata": {
      "needs_background": "light"
     },
     "output_type": "display_data"
    }
   ],
   "source": [
    "n = np.arange(10)\n",
    "x = [1, 3, -2, 4, -6, 8, 7, 15, 12, 0]\n",
    "b = [1] #Các hệ số của x\n",
    "a = [1, -1.5, 0.85] #Các hệ số của y, lưu ý đến dấu của các hệ số\n",
    "'''\n",
    "a, b là hệ số của phương trình vào ra:\n",
    "\n",
    "a[0]*y[n] = b[0]*x[n] + b[1]*x[n-1] + ... + b[M]*x[n-M]\n",
    "                      - a[1]*y[n-1] - ... - a[N]*y[n-N]\n",
    "Hoặc viết dưới dạng hàm chuyển biến đổi z: b là các hệ số của tử số, a là các hệ số của mẫu số\n",
    "                    -1              -M\n",
    "        b[0] + b[1]z  + ... + b[M] z\n",
    "Y(z) = -------------------------------- X(z)\n",
    "                    -1              -N\n",
    "        a[0] + a[1]z  + ... + a[N] z\n",
    "'''\n",
    "y = signal.lfilter(b, a, x)\n",
    "\n",
    "plt.subplot(2, 1, 1)\n",
    "plt.stem(n,x)\n",
    "plt.title(\"Tín hiệu vào\")\n",
    "plt.xlabel(\"Chỉ số n\")\n",
    "plt.ylabel(\"Biên độ\")\n",
    "plt.subplot(2, 1, 2)\n",
    "plt.stem(n,y)\n",
    "plt.title(\"Tín hiệu ra\")\n",
    "plt.xlabel(\"Chỉ số n\")\n",
    "plt.ylabel(\"Biên độ\")"
   ]
  },
  {
   "cell_type": "markdown",
   "metadata": {
    "colab_type": "text",
    "id": "7HsSDQqIu2D5"
   },
   "source": [
    "Bài 2a:<br>\n",
    "> Cho hệ thống rời rạc thời gian có phương trình tín hiệu vào ra: <br>\n",
    "> $y(n) = 1.2x(n)−0.85x(n−1) + x(n−2)$ <br>\n",
    "Tính và vẽ tín hiệu ra y(n) với tín hiệu vào $x = [1.5, -4, 6, 2.5, -3, 0, 0, 0, 0, 0] $<br>\n",
    "(Sử dụng vòng lặp for)"
   ]
  },
  {
   "cell_type": "code",
   "execution_count": 7,
   "metadata": {
    "colab": {},
    "colab_type": "code",
    "id": "qfQ1QvG0v1ou"
   },
   "outputs": [
    {
     "data": {
      "text/plain": [
       "Text(0, 0.5, 'Biên độ')"
      ]
     },
     "execution_count": 7,
     "metadata": {},
     "output_type": "execute_result"
    },
    {
     "data": {
      "image/png": "[encoded data removed]",
      "text/plain": [
       "<Figure size 432x288 with 2 Axes>"
      ]
     },
     "metadata": {
      "needs_background": "light"
     },
     "output_type": "display_data"
    }
   ],
   "source": [
    "import matplotlib.pyplot as plt\n",
    "from scipy import signal\n",
    "import numpy as np\n",
    "n = np.arange(10)\n",
    "x = [0,0,1.5, -4, 6, 2.5, -3, 0, 0, 0, 0, 0]\n",
    "y = np.zeros(12)\n",
    "for i in range(2,12): #range(10)\n",
    "    y[i] = 1.2*x[i] - 0.85*x[i-1] + x[i-2]\n",
    "y=y[2:12]\n",
    "x=x[2:12]\n",
    "\n",
    "plt.subplot(1, 2, 1)\n",
    "plt.stem(n,x)\n",
    "plt.title(\"Tín hiệu vào\")\n",
    "plt.xlabel(\"Chỉ số n\")\n",
    "plt.ylabel(\"Biên độ\")\n",
    "plt.subplot(1, 2, 2)\n",
    "plt.stem(n,y)\n",
    "plt.title(\"Tín hiệu ra\")\n",
    "plt.xlabel(\"Chỉ số n\")\n",
    "plt.ylabel(\"Biên độ\")"
   ]
  },
  {
   "cell_type": "markdown",
   "metadata": {
    "colab_type": "text",
    "id": "wi5whhHsvpaG"
   },
   "source": [
    "Bài 2b: <br>\n",
    "> Thực hiện lại bài 2a sử dụng hàm $lfilter$"
   ]
  },
  {
   "cell_type": "code",
   "execution_count": 8,
   "metadata": {
    "colab": {},
    "colab_type": "code",
    "id": "W6NBcDcIvm8p"
   },
   "outputs": [
    {
     "data": {
      "text/plain": [
       "Text(0, 0.5, 'Biên độ')"
      ]
     },
     "execution_count": 8,
     "metadata": {},
     "output_type": "execute_result"
    },
    {
     "data": {
      "image/png": "[encoded data removed]",
      "text/plain": [
       "<Figure size 432x288 with 2 Axes>"
      ]
     },
     "metadata": {
      "needs_background": "light"
     },
     "output_type": "display_data"
    }
   ],
   "source": [
    "n = np.arange(10)\n",
    "x = [1.5, -4, 6, 2.5, -3, 0, 0, 0, 0, 0]\n",
    "b = [1.2, -0.85, 1] #Các hệ số của x\n",
    "a = [1] #Các hệ số của y, lưu ý đến dấu của các hệ số\n",
    "'''\n",
    "a, b là hệ số của phương trình vào ra:\n",
    "\n",
    "a[0]*y[n] = b[0]*x[n] + b[1]*x[n-1] + ... + b[M]*x[n-M]\n",
    "                      - a[1]*y[n-1] - ... - a[N]*y[n-N]\n",
    "Hoặc viết dưới dạng hàm chuyển biến đổi z: b là các hệ số của tử số, a là các hệ số của mẫu số\n",
    "                    -1              -M\n",
    "        b[0] + b[1]z  + ... + b[M] z\n",
    "Y(z) = -------------------------------- X(z)\n",
    "                    -1              -N\n",
    "        a[0] + a[1]z  + ... + a[N] z\n",
    "'''\n",
    "y = signal.lfilter(b, a, x)\n",
    "\n",
    "plt.subplot(1, 2, 1)\n",
    "plt.stem(n,x)\n",
    "plt.title(\"Tín hiệu vào\")\n",
    "plt.xlabel(\"Chỉ số n\")\n",
    "plt.ylabel(\"Biên độ\")\n",
    "plt.subplot(1, 2, 2)\n",
    "plt.stem(n,y)\n",
    "plt.title(\"Tín hiệu ra\")\n",
    "plt.xlabel(\"Chỉ số n\")\n",
    "plt.ylabel(\"Biên độ\")"
   ]
  },
  {
   "cell_type": "markdown",
   "metadata": {
    "colab_type": "text",
    "id": "l1RxSHPMuc5T"
   },
   "source": [
    "Bài 3a: <br>\n",
    "> Đoạn chương sau đây tính và vẽ đáp ứng xung của hệ thống ở bài 2"
   ]
  },
  {
   "cell_type": "code",
   "execution_count": 9,
   "metadata": {
    "colab": {
     "base_uri": "https://localhost:8080/",
     "height": 410
    },
    "colab_type": "code",
    "id": "fXdvQCaruejg",
    "outputId": "06a7deb8-baee-4e41-aed6-f477c97a4e11"
   },
   "outputs": [
    {
     "name": "stdout",
     "output_type": "stream",
     "text": [
      "[ 1.2  -0.85  1.    0.    0.    0.    0.    0.    0.    0.  ]\n",
      "[1. 0. 0. 0. 0. 0. 0. 0. 0. 0.]\n"
     ]
    },
    {
     "data": {
      "image/png": "[encoded data removed]",
      "text/plain": [
       "<Figure size 432x288 with 2 Axes>"
      ]
     },
     "metadata": {
      "needs_background": "light"
     },
     "output_type": "display_data"
    }
   ],
   "source": [
    "n = np.arange(10)\n",
    "x = signal.unit_impulse(10)\n",
    "a = [1, 0, 0]\n",
    "b = [1.2, -0.85, 1]\n",
    "h = signal.lfilter(b, a, x)\n",
    "print(h)\n",
    "plt.subplot(2, 1, 1)\n",
    "plt.stem(n,x)\n",
    "plt.title(\"Tín hiệu vào\")\n",
    "plt.xlabel(\"Chỉ số n\")\n",
    "plt.ylabel(\"Biên độ\")\n",
    "plt.subplot(2, 1, 2)\n",
    "plt.stem(n,h)\n",
    "plt.title(\"Đáp ứng xung\")\n",
    "plt.xlabel(\"Chỉ số n\")\n",
    "plt.ylabel(\"Biên độ\")\n",
    "print(x)"
   ]
  },
  {
   "cell_type": "markdown",
   "metadata": {
    "colab_type": "text",
    "id": "vd7mpfr6wOiq"
   },
   "source": [
    "Bài 3b: (SV tự đọc) <br>\n",
    "> Thực hiện lại với hàm $dimpulse()$"
   ]
  },
  {
   "cell_type": "code",
   "execution_count": 10,
   "metadata": {
    "colab": {
     "base_uri": "https://localhost:8080/",
     "height": 563
    },
    "colab_type": "code",
    "id": "7L5RMDmywSJ6",
    "outputId": "db941c67-814f-4067-d9e9-e0bf5324961e"
   },
   "outputs": [
    {
     "name": "stdout",
     "output_type": "stream",
     "text": [
      "[ 1.2  -0.85  1.    0.    0.    0.    0.    0.    0.    0.  ]\n"
     ]
    },
    {
     "data": {
      "text/plain": [
       "Text(0, 0.5, 'Biên độ')"
      ]
     },
     "execution_count": 10,
     "metadata": {},
     "output_type": "execute_result"
    },
    {
     "data": {
      "image/png": "[encoded data removed]",
      "text/plain": [
       "<Figure size 432x288 with 2 Axes>"
      ]
     },
     "metadata": {
      "needs_background": "light"
     },
     "output_type": "display_data"
    }
   ],
   "source": [
    "n = np.arange(10)\n",
    "x = signal.unit_impulse(10)\n",
    "a = [1, 0, 0]\n",
    "b = [1.2, -0.85, 1]\n",
    "system = (b, a, 1.0) # dt=1.0 là thời gian lấy mẫu của hệ thống (tính bằng giây)\n",
    "t, y = signal.dimpulse(system, n =10) #t là thời gian, y là mảng 2 chiều đáp ứng xung\n",
    "h = y[0].flatten() #Đáp ứng xung\n",
    "print(h)# In ra các giá trị của h\n",
    "plt.subplot(2, 1, 1)\n",
    "plt.stem(n,x)\n",
    "plt.title(\"Tín hiệu vào\")\n",
    "plt.xlabel(\"Chỉ số n\")\n",
    "plt.ylabel(\"Biên độ\")\n",
    "plt.subplot(2, 1, 2)\n",
    "plt.stem(n,h)\n",
    "plt.title(\"Đáp ứng xung\")\n",
    "plt.xlabel(\"Chỉ số n\")\n",
    "plt.ylabel(\"Biên độ\")"
   ]
  },
  {
   "cell_type": "markdown",
   "metadata": {
    "colab_type": "text",
    "id": "oU8Z31ea1qin"
   },
   "source": [
    "Bài 4a: <br>\n",
    "> Cho hệ thống có phương trình hiệu số $y(n) = x(n)+2x(n-1)-x(n-2)+x(n-3)$ và tín hiệu vào $ x = [1.0,1,2,1,2,2,1,1]$ <br>\n",
    "> a. Tìm đáp ứng xung h của hệ thống <br>\n",
    "> b. Tính và vẽ tín hiệu ngõ ra của hệ thống\n"
   ]
  },
  {
   "cell_type": "code",
   "execution_count": 6,
   "metadata": {
    "colab": {},
    "colab_type": "code",
    "id": "5lQ8A-Jp3O3J"
   },
   "outputs": [
    {
     "name": "stdout",
     "output_type": "stream",
     "text": [
      "[ 1.  2. -1.  1.  0.  0.  0.  0.]\n"
     ]
    },
    {
     "data": {
      "text/plain": [
       "Text(0, 0.5, 'Biên độ')"
      ]
     },
     "execution_count": 6,
     "metadata": {},
     "output_type": "execute_result"
    },
    {
     "data": {
      "image/png": "[encoded data removed]",
      "text/plain": [
       "<Figure size 432x288 with 4 Axes>"
      ]
     },
     "metadata": {
      "needs_background": "light"
     },
     "output_type": "display_data"
    }
   ],
   "source": [
    "import matplotlib.pyplot as plt\n",
    "from scipy import signal\n",
    "import numpy as np\n",
    "n = np.arange(8)\n",
    "x = [1.0,1,2,1,2,2,1,1]\n",
    "b = [1,2,-1,1]\n",
    "a = [1] \n",
    "y = signal.lfilter(b,a,x)\n",
    "\n",
    "plt.subplot(2, 2, 1)\n",
    "plt.stem(n,x)\n",
    "plt.title(\"Tín hiệu vào\")\n",
    "plt.xlabel(\"Chỉ số n\")\n",
    "plt.ylabel(\"Biên độ\")\n",
    "plt.subplot(2, 2, 2)\n",
    "plt.stem(n,y)\n",
    "plt.title(\"Tín hiệu ra\")\n",
    "plt.xlabel(\"Chỉ số n\")\n",
    "plt.ylabel(\"Biên độ\")\n",
    "\n",
    "x = signal.unit_impulse(8)\n",
    "h = signal.lfilter(b, a, x)\n",
    "print(h)\n",
    "plt.subplot(2, 2, 3)\n",
    "plt.stem(n,x)\n",
    "plt.title(\"Tín hiệu vào\")\n",
    "plt.xlabel(\"Chỉ số n\")\n",
    "plt.ylabel(\"Biên độ\")\n",
    "plt.subplot(2, 2, 4)\n",
    "plt.stem(n,h)\n",
    "plt.title(\"Đáp ứng xung\")\n",
    "plt.xlabel(\"Chỉ số n\")\n",
    "plt.ylabel(\"Biên độ\")"
   ]
  },
  {
   "cell_type": "markdown",
   "metadata": {
    "colab_type": "text",
    "id": "PE5W5xHM3pfv"
   },
   "source": [
    "Bài 4b: <br>\n",
    "> Cho lọc FIR có đáp ứng xung là $h(n) = [0.5, -1.5, 0.85]$ <br>\n",
    "Viết phương trình vào ra của hệ thống"
   ]
  },
  {
   "cell_type": "code",
   "execution_count": 12,
   "metadata": {
    "colab": {},
    "colab_type": "code",
    "id": "zbkp9_1X4P4x"
   },
   "outputs": [],
   "source": [
    "\n",
    "#phương trình vào: y(n) = 0.5x(n) - 1.5x(n-1) + 0.85x(n-2)\n",
    "\n"
   ]
  },
  {
   "cell_type": "markdown",
   "metadata": {
    "colab_type": "text",
    "id": "Z4W4SOk50GrD"
   },
   "source": [
    "Bài 5a: <br>\n",
    "> Cho: <br>\n",
    "$x = [1.5, -4, 6, 2.5, -3, 0, 0, 0, 0, 0] $(Tín hiệu ở câu 2) <br>\n",
    "$h = [ 1.2,  -0.85, 1, 0, 0]$  (Đáp ứng xung ở câu 3)<br>\n",
    "Đoạn chương trình sau thực hiện nhân chập tín hiệu h với tín hiệu x được tín hiệu y. Vẽ tín hiệu x và y vừa tìm được sử dụng $subplot()$\n"
   ]
  },
  {
   "cell_type": "code",
   "execution_count": 13,
   "metadata": {
    "colab": {
     "base_uri": "https://localhost:8080/",
     "height": 410
    },
    "colab_type": "code",
    "id": "EsLBtCAD3a88",
    "outputId": "813687be-5f5c-4a9a-ef20-c8f1890f57b9"
   },
   "outputs": [
    {
     "name": "stdout",
     "output_type": "stream",
     "text": [
      "[ 1.8   -6.075 12.1   -6.1    0.275  5.05  -3.     0.     0.     0.   ]\n"
     ]
    },
    {
     "data": {
      "text/plain": [
       "Text(0, 0.5, 'Biên độ')"
      ]
     },
     "execution_count": 13,
     "metadata": {},
     "output_type": "execute_result"
    },
    {
     "data": {
      "image/png": "[encoded data removed]",
      "text/plain": [
       "<Figure size 432x288 with 2 Axes>"
      ]
     },
     "metadata": {
      "needs_background": "light"
     },
     "output_type": "display_data"
    }
   ],
   "source": [
    "n = np.arange(10)\n",
    "x = [1.5, -4, 6, 2.5, -3, 0, 0, 0, 0, 0]\n",
    "h = [ 1.2, -0.85, 1, 0, 0] \n",
    "y = np.zeros(10)\n",
    "for i in range(10):\n",
    "    for j in range(3):\n",
    "        if i>= j:\n",
    "            y[i] = y[i] + h[j]*x[i-j]\n",
    "print(y) # Xem kết quả\n",
    "plt.subplot(2, 1, 1)\n",
    "plt.stem(n,x)\n",
    "plt.title(\"Tín hiệu vào\")\n",
    "plt.xlabel(\"Chỉ số n\")\n",
    "plt.ylabel(\"Biên độ\")\n",
    "plt.subplot(2, 1, 2)\n",
    "plt.stem(n,y)\n",
    "plt.title(\"Tín hiệu ra\")\n",
    "plt.xlabel(\"Chỉ số n\")\n",
    "plt.ylabel(\"Biên độ\")"
   ]
  },
  {
   "cell_type": "markdown",
   "metadata": {
    "colab_type": "text",
    "id": "vDTP0VdAD8sh"
   },
   "source": [
    "Bài 5b: <br>\n",
    "> Thực hiện lại bài 4a với hàm $convolve()$ từ thư viện $signal$"
   ]
  },
  {
   "cell_type": "code",
   "execution_count": 14,
   "metadata": {
    "colab": {
     "base_uri": "https://localhost:8080/",
     "height": 410
    },
    "colab_type": "code",
    "id": "BYd2mC-WFV6J",
    "outputId": "6577c223-a40c-46aa-a1c1-bdf2b5a482e2"
   },
   "outputs": [
    {
     "name": "stdout",
     "output_type": "stream",
     "text": [
      "[ 1.8   -6.075 12.1   -6.1    0.275  5.05  -3.     0.     0.     0.   ]\n"
     ]
    },
    {
     "data": {
      "text/plain": [
       "Text(0, 0.5, 'Biên độ')"
      ]
     },
     "execution_count": 14,
     "metadata": {},
     "output_type": "execute_result"
    },
    {
     "data": {
      "image/png": "[encoded data removed]",
      "text/plain": [
       "<Figure size 432x288 with 2 Axes>"
      ]
     },
     "metadata": {
      "needs_background": "light"
     },
     "output_type": "display_data"
    }
   ],
   "source": [
    "n = np.arange(10)\n",
    "x = [1.5, -4, 6, 2.5, -3, 0, 0, 0, 0, 0]\n",
    "h = [ 1.2, -0.85, 1, 0, 0, 0, 0, 0, 0, 0] \n",
    "y = signal.convolve(x, h, mode='full')\n",
    "y = y[:10]\n",
    "print(y) # Xem kết quả\n",
    "plt.subplot(2, 1, 1)\n",
    "plt.stem(n,x)\n",
    "plt.title(\"Tín hiệu vào\")\n",
    "plt.xlabel(\"Chỉ số n\")\n",
    "plt.ylabel(\"Biên độ\")\n",
    "plt.subplot(2, 1, 2)\n",
    "plt.stem(n,y)\n",
    "plt.title(\"Tín hiệu ra\")\n",
    "plt.xlabel(\"Chỉ số n\")\n",
    "plt.ylabel(\"Biên độ\")"
   ]
  },
  {
   "cell_type": "markdown",
   "metadata": {
    "colab_type": "text",
    "id": "L3j_Z2Z-MVtP"
   },
   "source": [
    "Bài 6a: <br>\n",
    "> Bộ lọc thấp qua có phương trình tín hiệu vào ra: $$y(n)=\\frac{1}{M}\\sum_{k=0}^{M-1}x(n-k)$$ <br>\n",
    "> a. Viết phương trình vào ra của bộ lọc khi M = 2 <br>\n",
    "> b. Tìm đáp ứng xung h của bộ lọc <br>\n",
    "> c. Tìm các hệ số a và b của hệ thống"
   ]
  },
  {
   "cell_type": "code",
   "execution_count": 15,
   "metadata": {
    "colab": {},
    "colab_type": "code",
    "id": "xAjVYqTnNArL"
   },
   "outputs": [],
   "source": [
    "#a) y(n) = 1/2*x(n) + 1/2*x(n-1)\n",
    "#b) h(n) = 1/2*δ(𝑛) + 1/2*δ(𝑛-1)\n",
    "#c) a = 1\n",
    "#   b = 1/2, 1/2"
   ]
  },
  {
   "cell_type": "markdown",
   "metadata": {
    "colab_type": "text",
    "id": "DyYoftXoPOaN"
   },
   "source": [
    "Bài 6b: <br>\n",
    "> Tạo và vẽ tín hiệu s tổng hợp từ 2 tín hiệu sin s1 và s2 (fs = 10Hz, t = 50)như sau:\n",
    ">> s1: f1 = 0.05Hz, a1 = 1,  pha ban đầu = 0 <br>\n",
    ">> s2: f2 = 1Hz, a2 = 0.5,  pha ban đầu = 0 <br>\n",
    "\n",
    "> Hướng dẫn: tạo s1 bằng câu lệnh: $s1 =  a1*np.sin(2*np.pi*f*n)$"
   ]
  },
  {
   "cell_type": "code",
   "execution_count": 16,
   "metadata": {
    "colab": {},
    "colab_type": "code",
    "id": "n8U4Hj59QnAE"
   },
   "outputs": [
    {
     "data": {
      "text/plain": [
       "(0.0, 50.0)"
      ]
     },
     "execution_count": 16,
     "metadata": {},
     "output_type": "execute_result"
    },
    {
     "data": {
      "image/png": "[encoded data removed]",
      "text/plain": [
       "<Figure size 432x288 with 1 Axes>"
      ]
     },
     "metadata": {
      "needs_background": "light"
     },
     "output_type": "display_data"
    }
   ],
   "source": [
    "t = 50 #Thời gian của tín hiệu\n",
    "fs = 10\n",
    "n = np.linspace(0, t, fs*t, endpoint=False)\n",
    "f1 = 0.05\n",
    "f2 = 1\n",
    "a1 = 1\n",
    "a2 = 0.5\n",
    "s1 = a1*np.sin(2*np.pi*f1*n)\n",
    "s2 = a2*np.sin(2*np.pi*f2*n)\n",
    "s = s1+s2 # Cộng 2 tín hiệu \n",
    "plt.plot(n, s)\n",
    "plt.xlabel('Thời gian (s)')\n",
    "plt.ylabel('Biên độ (V)')\n",
    "plt.xlim(0, 50)"
   ]
  },
  {
   "cell_type": "markdown",
   "metadata": {
    "colab_type": "text",
    "id": "wAWXDFpbQyvn"
   },
   "source": [
    "Bài 6c: <br>\n",
    "> Thực hiện lọc tín hiệu s với bộ lọc ở câu 6a (M= 10), sử dụng hàm $lfilter()$. Vẽ tín hiệu s1, s2, s và tín hiệu ra y sử dụng subplot() và plot()<br>\n",
    "Nhận xét tính hiệu y và s1"
   ]
  },
  {
   "cell_type": "code",
   "execution_count": 17,
   "metadata": {
    "colab": {},
    "colab_type": "code",
    "id": "3fuumljVRhSB"
   },
   "outputs": [
    {
     "ename": "ValueError",
     "evalue": "v cannot be empty",
     "output_type": "error",
     "traceback": [
      "\u001b[1;31m---------------------------------------------------------------------------\u001b[0m",
      "\u001b[1;31mValueError\u001b[0m                                Traceback (most recent call last)",
      "\u001b[1;32md:\\HCMUS 5\\TH DSP 2022\\Lab 2\\Ca02_20200315_HuynhThiMaiPhuong_lab02.ipynb Cell 30\u001b[0m in \u001b[0;36m<cell line: 17>\u001b[1;34m()\u001b[0m\n\u001b[0;32m      <a href='vscode-notebook-cell:/d%3A/HCMUS%205/TH%20DSP%202022/Lab%202/Ca02_20200315_HuynhThiMaiPhuong_lab02.ipynb#X41sZmlsZQ%3D%3D?line=3'>4</a>\u001b[0m a \u001b[39m=\u001b[39m [\u001b[39m1\u001b[39m] \u001b[39m#Các hệ số của y, lưu ý đến dấu của các hệ số\u001b[39;00m\n\u001b[0;32m      <a href='vscode-notebook-cell:/d%3A/HCMUS%205/TH%20DSP%202022/Lab%202/Ca02_20200315_HuynhThiMaiPhuong_lab02.ipynb#X41sZmlsZQ%3D%3D?line=4'>5</a>\u001b[0m \u001b[39m'''\u001b[39;00m\n\u001b[0;32m      <a href='vscode-notebook-cell:/d%3A/HCMUS%205/TH%20DSP%202022/Lab%202/Ca02_20200315_HuynhThiMaiPhuong_lab02.ipynb#X41sZmlsZQ%3D%3D?line=5'>6</a>\u001b[0m \u001b[39ma, b là hệ số của phương trình vào ra:\u001b[39;00m\n\u001b[0;32m      <a href='vscode-notebook-cell:/d%3A/HCMUS%205/TH%20DSP%202022/Lab%202/Ca02_20200315_HuynhThiMaiPhuong_lab02.ipynb#X41sZmlsZQ%3D%3D?line=6'>7</a>\u001b[0m \n\u001b[1;32m   (...)\u001b[0m\n\u001b[0;32m     <a href='vscode-notebook-cell:/d%3A/HCMUS%205/TH%20DSP%202022/Lab%202/Ca02_20200315_HuynhThiMaiPhuong_lab02.ipynb#X41sZmlsZQ%3D%3D?line=14'>15</a>\u001b[0m \u001b[39m        a[0] + a[1]z  + ... + a[N] z\u001b[39;00m\n\u001b[0;32m     <a href='vscode-notebook-cell:/d%3A/HCMUS%205/TH%20DSP%202022/Lab%202/Ca02_20200315_HuynhThiMaiPhuong_lab02.ipynb#X41sZmlsZQ%3D%3D?line=15'>16</a>\u001b[0m \u001b[39m'''\u001b[39;00m\n\u001b[1;32m---> <a href='vscode-notebook-cell:/d%3A/HCMUS%205/TH%20DSP%202022/Lab%202/Ca02_20200315_HuynhThiMaiPhuong_lab02.ipynb#X41sZmlsZQ%3D%3D?line=16'>17</a>\u001b[0m y \u001b[39m=\u001b[39m signal\u001b[39m.\u001b[39;49mlfilter(b, a, x)\n\u001b[0;32m     <a href='vscode-notebook-cell:/d%3A/HCMUS%205/TH%20DSP%202022/Lab%202/Ca02_20200315_HuynhThiMaiPhuong_lab02.ipynb#X41sZmlsZQ%3D%3D?line=18'>19</a>\u001b[0m plt\u001b[39m.\u001b[39msubplot(\u001b[39m2\u001b[39m, \u001b[39m1\u001b[39m, \u001b[39m1\u001b[39m)\n\u001b[0;32m     <a href='vscode-notebook-cell:/d%3A/HCMUS%205/TH%20DSP%202022/Lab%202/Ca02_20200315_HuynhThiMaiPhuong_lab02.ipynb#X41sZmlsZQ%3D%3D?line=19'>20</a>\u001b[0m plt\u001b[39m.\u001b[39mplot(n,x)\n",
      "File \u001b[1;32md:\\anaconda3\\lib\\site-packages\\scipy\\signal\\signaltools.py:2038\u001b[0m, in \u001b[0;36mlfilter\u001b[1;34m(b, a, x, axis, zi)\u001b[0m\n\u001b[0;32m   2035\u001b[0m b \u001b[39m/\u001b[39m\u001b[39m=\u001b[39m a[\u001b[39m0\u001b[39m]\n\u001b[0;32m   2036\u001b[0m x \u001b[39m=\u001b[39m np\u001b[39m.\u001b[39marray(x, dtype\u001b[39m=\u001b[39mdtype, copy\u001b[39m=\u001b[39m\u001b[39mFalse\u001b[39;00m)\n\u001b[1;32m-> 2038\u001b[0m out_full \u001b[39m=\u001b[39m np\u001b[39m.\u001b[39;49mapply_along_axis(\u001b[39mlambda\u001b[39;49;00m y: np\u001b[39m.\u001b[39;49mconvolve(b, y), axis, x)\n\u001b[0;32m   2039\u001b[0m ind \u001b[39m=\u001b[39m out_full\u001b[39m.\u001b[39mndim \u001b[39m*\u001b[39m [\u001b[39mslice\u001b[39m(\u001b[39mNone\u001b[39;00m)]\n\u001b[0;32m   2040\u001b[0m \u001b[39mif\u001b[39;00m zi \u001b[39mis\u001b[39;00m \u001b[39mnot\u001b[39;00m \u001b[39mNone\u001b[39;00m:\n",
      "File \u001b[1;32m<__array_function__ internals>:5\u001b[0m, in \u001b[0;36mapply_along_axis\u001b[1;34m(*args, **kwargs)\u001b[0m\n",
      "File \u001b[1;32md:\\anaconda3\\lib\\site-packages\\numpy\\lib\\shape_base.py:379\u001b[0m, in \u001b[0;36mapply_along_axis\u001b[1;34m(func1d, axis, arr, *args, **kwargs)\u001b[0m\n\u001b[0;32m    375\u001b[0m \u001b[39mexcept\u001b[39;00m \u001b[39mStopIteration\u001b[39;00m \u001b[39mas\u001b[39;00m e:\n\u001b[0;32m    376\u001b[0m     \u001b[39mraise\u001b[39;00m \u001b[39mValueError\u001b[39;00m(\n\u001b[0;32m    377\u001b[0m         \u001b[39m'\u001b[39m\u001b[39mCannot apply_along_axis when any iteration dimensions are 0\u001b[39m\u001b[39m'\u001b[39m\n\u001b[0;32m    378\u001b[0m     ) \u001b[39mfrom\u001b[39;00m \u001b[39mNone\u001b[39m\n\u001b[1;32m--> 379\u001b[0m res \u001b[39m=\u001b[39m asanyarray(func1d(inarr_view[ind0], \u001b[39m*\u001b[39margs, \u001b[39m*\u001b[39m\u001b[39m*\u001b[39mkwargs))\n\u001b[0;32m    381\u001b[0m \u001b[39m# build a buffer for storing evaluations of func1d.\u001b[39;00m\n\u001b[0;32m    382\u001b[0m \u001b[39m# remove the requested axis, and add the new ones on the end.\u001b[39;00m\n\u001b[0;32m    383\u001b[0m \u001b[39m# laid out so that each write is contiguous.\u001b[39;00m\n\u001b[0;32m    384\u001b[0m \u001b[39m# for a tuple index inds, buff[inds] = func1d(inarr_view[inds])\u001b[39;00m\n\u001b[0;32m    385\u001b[0m buff \u001b[39m=\u001b[39m zeros(inarr_view\u001b[39m.\u001b[39mshape[:\u001b[39m-\u001b[39m\u001b[39m1\u001b[39m] \u001b[39m+\u001b[39m res\u001b[39m.\u001b[39mshape, res\u001b[39m.\u001b[39mdtype)\n",
      "File \u001b[1;32md:\\anaconda3\\lib\\site-packages\\scipy\\signal\\signaltools.py:2038\u001b[0m, in \u001b[0;36mlfilter.<locals>.<lambda>\u001b[1;34m(y)\u001b[0m\n\u001b[0;32m   2035\u001b[0m b \u001b[39m/\u001b[39m\u001b[39m=\u001b[39m a[\u001b[39m0\u001b[39m]\n\u001b[0;32m   2036\u001b[0m x \u001b[39m=\u001b[39m np\u001b[39m.\u001b[39marray(x, dtype\u001b[39m=\u001b[39mdtype, copy\u001b[39m=\u001b[39m\u001b[39mFalse\u001b[39;00m)\n\u001b[1;32m-> 2038\u001b[0m out_full \u001b[39m=\u001b[39m np\u001b[39m.\u001b[39mapply_along_axis(\u001b[39mlambda\u001b[39;00m y: np\u001b[39m.\u001b[39;49mconvolve(b, y), axis, x)\n\u001b[0;32m   2039\u001b[0m ind \u001b[39m=\u001b[39m out_full\u001b[39m.\u001b[39mndim \u001b[39m*\u001b[39m [\u001b[39mslice\u001b[39m(\u001b[39mNone\u001b[39;00m)]\n\u001b[0;32m   2040\u001b[0m \u001b[39mif\u001b[39;00m zi \u001b[39mis\u001b[39;00m \u001b[39mnot\u001b[39;00m \u001b[39mNone\u001b[39;00m:\n",
      "File \u001b[1;32m<__array_function__ internals>:5\u001b[0m, in \u001b[0;36mconvolve\u001b[1;34m(*args, **kwargs)\u001b[0m\n",
      "File \u001b[1;32md:\\anaconda3\\lib\\site-packages\\numpy\\core\\numeric.py:843\u001b[0m, in \u001b[0;36mconvolve\u001b[1;34m(a, v, mode)\u001b[0m\n\u001b[0;32m    841\u001b[0m     \u001b[39mraise\u001b[39;00m \u001b[39mValueError\u001b[39;00m(\u001b[39m'\u001b[39m\u001b[39ma cannot be empty\u001b[39m\u001b[39m'\u001b[39m)\n\u001b[0;32m    842\u001b[0m \u001b[39mif\u001b[39;00m \u001b[39mlen\u001b[39m(v) \u001b[39m==\u001b[39m \u001b[39m0\u001b[39m:\n\u001b[1;32m--> 843\u001b[0m     \u001b[39mraise\u001b[39;00m \u001b[39mValueError\u001b[39;00m(\u001b[39m'\u001b[39m\u001b[39mv cannot be empty\u001b[39m\u001b[39m'\u001b[39m)\n\u001b[0;32m    844\u001b[0m \u001b[39mreturn\u001b[39;00m multiarray\u001b[39m.\u001b[39mcorrelate(a, v[::\u001b[39m-\u001b[39m\u001b[39m1\u001b[39m], mode)\n",
      "\u001b[1;31mValueError\u001b[0m: v cannot be empty"
     ]
    }
   ],
   "source": [
    "n = np.arange(10)\n",
    "x = []\n",
    "b = [1/10,1/10,1/10,1/10,1/10,1/10,1/10,1/10,1/10,1/10] #Các hệ số của x\n",
    "a = [1] #Các hệ số của y, lưu ý đến dấu của các hệ số\n",
    "'''\n",
    "a, b là hệ số của phương trình vào ra:\n",
    "\n",
    "a[0]*y[n] = b[0]*x[n] + b[1]*x[n-1] + ... + b[M]*x[n-M]\n",
    "                      - a[1]*y[n-1] - ... - a[N]*y[n-N]\n",
    "Hoặc viết dưới dạng hàm chuyển biến đổi z: b là các hệ số của tử số, a là các hệ số của mẫu số\n",
    "                    -1              -M\n",
    "        b[0] + b[1]z  + ... + b[M] z\n",
    "Y(z) = -------------------------------- X(z)\n",
    "                    -1              -N\n",
    "        a[0] + a[1]z  + ... + a[N] z\n",
    "'''\n",
    "y = signal.lfilter(b, a, x)\n",
    "\n",
    "plt.subplot(2, 1, 1)\n",
    "plt.plot(n,x)\n",
    "plt.title(\"Tín hiệu vào\")\n",
    "plt.xlabel(\"Chỉ số n\")\n",
    "plt.ylabel(\"Biên độ\")\n",
    "plt.subplot(2, 1, 2)\n",
    "plt.plot(n,y)\n",
    "plt.title(\"Tín hiệu ra\")\n",
    "plt.xlabel(\"Chỉ số n\")\n",
    "plt.ylabel(\"Biên độ\")"
   ]
  },
  {
   "cell_type": "markdown",
   "metadata": {
    "colab_type": "text",
    "id": "GSGbUwBzRiC7"
   },
   "source": [
    "Bài 6d: <br>\n",
    "Thực hiện lọc tín hiệu s với bộ lọc ở câu 6a, sử dụng nhân chập từ hàm convolve(). Vẽ tín hiệu s1, s2, s và tín hiệu ra y sử dụng subplot() và plot()"
   ]
  },
  {
   "cell_type": "code",
   "execution_count": null,
   "metadata": {
    "colab": {},
    "colab_type": "code",
    "id": "-FMH_d0nRs9Y"
   },
   "outputs": [],
   "source": []
  },
  {
   "cell_type": "markdown",
   "metadata": {
    "colab_type": "text",
    "id": "KCOiXPqlSQNT"
   },
   "source": [
    "Bài 6e: <br>\n",
    "Thay đổi M từ 10 thành 15, 20, 35 và nhận xét tín hiệu ngõ ra"
   ]
  },
  {
   "cell_type": "code",
   "execution_count": null,
   "metadata": {
    "colab": {},
    "colab_type": "code",
    "id": "M3CdUKI0SZum"
   },
   "outputs": [],
   "source": []
  },
  {
   "cell_type": "markdown",
   "metadata": {
    "colab_type": "text",
    "id": "VF-zu46YSqoS"
   },
   "source": [
    "Bài 6f: <br>\n",
    "Cho M = 15, cho s2 = 0, thay đổi f1 = 0.2Hz. Vẽ tín hiệu ngõ ra. Nhận xét?"
   ]
  },
  {
   "cell_type": "code",
   "execution_count": null,
   "metadata": {
    "colab": {},
    "colab_type": "code",
    "id": "cLs0nTJMS-O6"
   },
   "outputs": [],
   "source": []
  },
  {
   "cell_type": "markdown",
   "metadata": {
    "colab_type": "text",
    "id": "kW9kMHObS_Ge"
   },
   "source": [
    "Bài 6g: <br>\n",
    "Cho M = 15, cho s2 = 0, thay đổi f1 = 0.5Hz. Vẽ tín hiệu ngõ ra. Nhận xét?\n"
   ]
  },
  {
   "cell_type": "code",
   "execution_count": null,
   "metadata": {
    "colab": {},
    "colab_type": "code",
    "id": "mUvEvon4TvN5"
   },
   "outputs": [],
   "source": []
  },
  {
   "cell_type": "markdown",
   "metadata": {
    "colab_type": "text",
    "id": "Jb0bGhKjTvsk"
   },
   "source": [
    "Bài 7: <br>\n",
    "> Cho tín hiệu được tạo bằng Python như sau:<br>\n",
    "n = np.arange(300)/256 <br>\n",
    "x = np.cos(2\\*np.pi\\*10\\*n) + np.cos(2\\*np.pi\\*100\\*n)<br>\n",
    "> Cho 2 hệ thống, điều kiện ban đầu $ y(−2) = y(−1) = 0$:<br>\n",
    ">> H1: $ y(n) = 0.5x(n) + 0.27x(n−1) + 0.77x(n−2) $<br>\n",
    ">> H2: $y(n) = 0.45x(n)+0.5x(n−1)+0.45x(n−2)+0.53y(n−1)−0.46y(n−2)$ <br>\n",
    "\n",
    "> a. Cho biết tần số lấy mẫu fs của tín hiệu x <br>\n",
    "> b. Tìm và vẽ tín hiệu ngõ ra của 2 hệ thống khi tín hiệu vào là x <br>\n",
    "> c. Nhận xét\n"
   ]
  },
  {
   "cell_type": "code",
   "execution_count": 34,
   "metadata": {
    "colab": {},
    "colab_type": "code",
    "id": "oe_b7OZKUQ1Z"
   },
   "outputs": [
    {
     "data": {
      "text/plain": [
       "Text(0, 0.5, 'Biên độ')"
      ]
     },
     "execution_count": 34,
     "metadata": {},
     "output_type": "execute_result"
    },
    {
     "data": {
      "image/png": "[encoded data removed]",
      "text/plain": [
       "<Figure size 432x288 with 2 Axes>"
      ]
     },
     "metadata": {
      "needs_background": "light"
     },
     "output_type": "display_data"
    }
   ],
   "source": [
    "#fs= 256\n",
    "#𝑦(𝑛)=0.5𝑥(𝑛)+0.27𝑥(𝑛−1)+0.77𝑥(𝑛−2) \n",
    "\n",
    "\n",
    "\n",
    "n = np.arange(300)/256\n",
    "x = np.cos(2*np.pi*10*n) + np.cos(2*np.pi*100*n)\n",
    "\n",
    "#H1\n",
    "a1 = [1]\n",
    "b1 = [0.5,0.27,0.77]\n",
    "\n",
    "y1 = signal.lfilter(b1, a1, x)\n",
    "\n",
    "plt.subplot(2, 1, 1)\n",
    "plt.stem(n,y1)\n",
    "plt.title(\"Tín hiệu ra H1\")\n",
    "plt.xlabel(\"Chỉ số n\")\n",
    "plt.ylabel(\"Biên độ\")\n",
    "\n",
    "#H2\n",
    "a2 = [1,-0.53,0.46]\n",
    "b2 = [0.45,0.5,0.45]\n",
    "\n",
    "y2 = signal.lfilter(b2, a2, x)\n",
    "\n",
    "plt.subplot(2, 1, 2)\n",
    "plt.stem(n,y2)\n",
    "plt.title(\"Tín hiệu ra H2\")\n",
    "plt.xlabel(\"Chỉ số n\")\n",
    "plt.ylabel(\"Biên độ\")\n"
   ]
  },
  {
   "cell_type": "code",
   "execution_count": null,
   "metadata": {},
   "outputs": [],
   "source": []
  }
 ],
 "metadata": {
  "colab": {
   "collapsed_sections": [],
   "name": "Lab2.ipynb",
   "provenance": [],
   "version": "0.3.2"
  },
  "kernelspec": {
   "display_name": "Python 3.9.12 ('base')",
   "language": "python",
   "name": "python3"
  },
  "language_info": {
   "codemirror_mode": {
    "name": "ipython",
    "version": 3
   },
   "file_extension": ".py",
   "mimetype": "text/x-python",
   "name": "python",
   "nbconvert_exporter": "python",
   "pygments_lexer": "ipython3",
   "version": "3.9.12"
  },
  "vscode": {
   "interpreter": {
    "hash": "49cb93f377a7abe7414b7b0f21fb3017538004a126cf690fb524202736b7fb92"
   }
  }
 },
 "nbformat": 4,
 "nbformat_minor": 1
}
