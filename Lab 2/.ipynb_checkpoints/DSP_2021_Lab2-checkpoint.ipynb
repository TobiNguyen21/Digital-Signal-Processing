{
 "cells": [
  {
   "cell_type": "markdown",
   "metadata": {
    "colab_type": "text",
    "id": "x-C6ywwJKg-1"
   },
   "source": [
    "#### Khoa Điện tử Viễn thông- Trường Đại học Khoa học tự nhiên<br>\n",
    "-------------------------------------------------------------------------\n",
    "# <center>Bài 2: HỆ THỐNG RỜI RẠC TRONG MIỀN THỜI GIAN </center><br>\n",
    "Nhóm: <br>\n",
    "Họ và tên: Nguyễn Anh Tuấn\n",
    "MSSV:20200399\n",
    "#### Mục đích:\n",
    "> * Minh họa hoạt động của hệ thống rời rạc thời gian LTI <br>\n",
    "> * Minh họa các tính chất trong miền thời gian của hệ thống rời rạc thời gian LTI<br>"
   ]
  },
  {
   "cell_type": "markdown",
   "metadata": {
    "colab_type": "text",
    "id": "JVrctK1ExOn_"
   },
   "source": [
    "Thêm thư viện vào project"
   ]
  },
  {
   "cell_type": "code",
   "execution_count": 2,
   "metadata": {
    "colab": {},
    "colab_type": "code",
    "id": "OF-TtTiFt32b"
   },
   "outputs": [],
   "source": [
    "#Thêm thư viện\n",
    "import matplotlib.pyplot as plt\n",
    "from scipy import signal\n",
    "import numpy as np"
   ]
  },
  {
   "cell_type": "markdown",
   "metadata": {
    "colab_type": "text",
    "id": "ia3fgGJXmeSm"
   },
   "source": [
    "Bài 1a: <br>\n",
    "> Xem hệ thống rời rạc thời gian có phương trình tín hiệu vào ra: $ y(n) = 1.5y(n−1)−0.85y(n−2) + x(n)$ <br>\n",
    "Điều kiện ban đầu của hệ thống $y(−2) = y(−1) = 0.$ <br>\n",
    "Đoạn code sau đây tính và vẽ 10 giá trị đầu tiên của y(n) ứng với tín hiệu vào $x = [1, 3, -2, 4, -6, 8, 7, 15, 12, 0]$\n"
   ]
  },
  {
   "cell_type": "code",
   "execution_count": 2,
   "metadata": {
    "colab": {
     "base_uri": "https://localhost:8080/",
     "height": 393
    },
    "colab_type": "code",
    "id": "y-Zv6DIlmjPu",
    "outputId": "0ccb865a-6266-4a54-dc54-0022291d587f"
   },
   "outputs": [
    {
     "data": {
      "text/plain": [
       "Text(0,0.5,'Biên độ')"
      ]
     },
     "execution_count": 2,
     "metadata": {},
     "output_type": "execute_result"
    },
    {
     "data": {
      "image/png": "[encoded data removed]",
      "text/plain": [
       "<Figure size 432x288 with 2 Axes>"
      ]
     },
     "metadata": {},
     "output_type": "display_data"
    }
   ],
   "source": [
    "import matplotlib.pyplot as plt\n",
    "from scipy import signal\n",
    "import numpy as np\n",
    "n = np.arange(10)\n",
    "x = [1, 3, -2, 4, -6, 8, 7, 15, 12, 0] #Khai báo tín hiệu x\n",
    "y = np.zeros(12) #Khởi tạo mảng y gồm 12 phần tử có giá trị 0\n",
    "for i in range(2,12): #i chạy từ 2 đến 11\n",
    "    y[i] = 1.5*y[i-1] - 0.85*y[i-2] + x[i-2] #Lưu ý đến x[i-2]\n",
    "y = y[2:12] #Gán lại giá trị y bằng phần tử 2 đến 11\n",
    "plt.subplot(2, 1, 1)\n",
    "plt.stem(n,x)\n",
    "plt.title(\"Tín hiệu vào\")\n",
    "plt.xlabel(\"Chỉ số n\")\n",
    "plt.ylabel(\"Biên độ\")\n",
    "plt.subplot(2, 1, 2)\n",
    "plt.stem(n,y)\n",
    "plt.title(\"Tín hiệu ra\")\n",
    "plt.xlabel(\"Chỉ số n\")\n",
    "plt.ylabel(\"Biên độ\")"
   ]
  },
  {
   "cell_type": "code",
   "execution_count": 11,
   "metadata": {},
   "outputs": [
    {
     "data": {
      "text/plain": [
       "Text(0,0.5,'Biên độ')"
      ]
     },
     "execution_count": 11,
     "metadata": {},
     "output_type": "execute_result"
    },
    {
     "data": {
      "image/png": "[encoded data removed]",
      "text/plain": [
       "<Figure size 432x288 with 2 Axes>"
      ]
     },
     "metadata": {},
     "output_type": "display_data"
    }
   ],
   "source": [
    "#Cách 2\n",
    "import matplotlib.pyplot as plt\n",
    "from scipy import signal\n",
    "import numpy as np\n",
    "n = np.arange(10)\n",
    "x = [1, 3, -2, 4, -6, 8, 7, 15, 12, 0]\n",
    "y = np.zeros(10)\n",
    "for i in range(0,10): #range(10)\n",
    "    y[i] = 1.5*y[i-1] - 0.85*y[i-2] + x[i]\n",
    "plt.subplot(2, 1, 1)\n",
    "plt.stem(n,x)\n",
    "plt.title(\"Tín hiệu vào\")\n",
    "plt.xlabel(\"Chỉ số n\")\n",
    "plt.ylabel(\"Biên độ\")\n",
    "plt.subplot(2, 1, 2)\n",
    "plt.stem(n,y)\n",
    "plt.title(\"Tín hiệu ra\")\n",
    "plt.xlabel(\"Chỉ số n\")\n",
    "plt.ylabel(\"Biên độ\")"
   ]
  },
  {
   "cell_type": "markdown",
   "metadata": {
    "colab_type": "text",
    "id": "MSwJm-b3sxLN"
   },
   "source": [
    "Bài 1b:<br>\n",
    " > Thực hiện lại bài 1a sử dụng hàm $lfilter()$"
   ]
  },
  {
   "cell_type": "code",
   "execution_count": 3,
   "metadata": {
    "colab": {
     "base_uri": "https://localhost:8080/",
     "height": 393
    },
    "colab_type": "code",
    "id": "2BQqqMQ5s0-O",
    "outputId": "7b49fb75-8466-487e-90e4-447f4a5e33fc"
   },
   "outputs": [
    {
     "data": {
      "text/plain": [
       "Text(0,0.5,'Biên độ')"
      ]
     },
     "execution_count": 3,
     "metadata": {},
     "output_type": "execute_result"
    },
    {
     "data": {
      "image/png": "[encoded data removed]",
      "text/plain": [
       "<Figure size 432x288 with 2 Axes>"
      ]
     },
     "metadata": {},
     "output_type": "display_data"
    }
   ],
   "source": [
    "n = np.arange(10)\n",
    "x = [1, 3, -2, 4, -6, 8, 7, 15, 12, 0]\n",
    "b = [1] #Các hệ số của x\n",
    "a = [1, -1.5, 0.85] #Các hệ số của y, lưu ý đến dấu của các hệ số\n",
    "'''\n",
    "a, b là hệ số của phương trình vào ra:\n",
    "\n",
    "a[0]*y[n] = b[0]*x[n] + b[1]*x[n-1] + ... + b[M]*x[n-M]\n",
    "                      - a[1]*y[n-1] - ... - a[N]*y[n-N]\n",
    "Hoặc viết dưới dạng hàm chuyển biến đổi z: b là các hệ số của tử số, a là các hệ số của mẫu số\n",
    "                    -1              -M\n",
    "        b[0] + b[1]z  + ... + b[M] z\n",
    "Y(z) = -------------------------------- X(z)\n",
    "                    -1              -N\n",
    "        a[0] + a[1]z  + ... + a[N] z\n",
    "'''\n",
    "y = signal.lfilter(b, a, x)\n",
    "\n",
    "plt.subplot(2, 1, 1)\n",
    "plt.stem(n,x)\n",
    "plt.title(\"Tín hiệu vào\")\n",
    "plt.xlabel(\"Chỉ số n\")\n",
    "plt.ylabel(\"Biên độ\")\n",
    "plt.subplot(2, 1, 2)\n",
    "plt.stem(n,y)\n",
    "plt.title(\"Tín hiệu ra\")\n",
    "plt.xlabel(\"Chỉ số n\")\n",
    "plt.ylabel(\"Biên độ\")"
   ]
  },
  {
   "cell_type": "markdown",
   "metadata": {
    "colab_type": "text",
    "id": "7HsSDQqIu2D5"
   },
   "source": [
    "Bài 2a:<br>\n",
    "> Cho hệ thống rời rạc thời gian có phương trình tín hiệu vào ra: <br>\n",
    "> $y(n) = 1.2x(n)−0.85x(n−1) + x(n−2)$ <br>\n",
    "Tính và vẽ tín hiệu ra y(n) với tín hiệu vào $x = [1.5, -4, 6, 2.5, -3, 0, 0, 0, 0, 0] $<br>\n",
    "(Sử dụng vòng lặp for)"
   ]
  },
  {
   "cell_type": "code",
   "execution_count": 6,
   "metadata": {
    "colab": {},
    "colab_type": "code",
    "id": "qfQ1QvG0v1ou"
   },
   "outputs": [
    {
     "data": {
      "text/plain": [
       "Text(0, 0.5, 'Biên độ')"
      ]
     },
     "execution_count": 6,
     "metadata": {},
     "output_type": "execute_result"
    },
    {
     "data": {
      "image/png": "[encoded data removed]",
      "text/plain": [
       "<Figure size 432x288 with 2 Axes>"
      ]
     },
     "metadata": {
      "needs_background": "light"
     },
     "output_type": "display_data"
    }
   ],
   "source": [
    "import matplotlib.pyplot as plt\n",
    "from scipy import signal\n",
    "import numpy as np\n",
    "n = np.arange(10)\n",
    "x = [0,0,1.5, -4, 6, 2.5, -3, 0, 0, 0, 0, 0] #Khai báo tín hiệu x\n",
    "y = np.zeros(12) #Khởi tạo mảng y gồm 12 phần tử có giá trị 0\n",
    "for i in range(2,12): #i chạy từ 2 đến 11\n",
    "    y[i] = 1.2*x[i] - 0.85*x[i-1] + x[i-2] #Lưu ý đến x[i-2]\n",
    "y = y[2:12] #Gán lại giá trị y bằng phần tử 2 đến 11\n",
    "x = x[2:12]\n",
    "plt.subplot(1, 2, 1)\n",
    "plt.stem(n,x)\n",
    "plt.title(\"Tín hiệu vào\")\n",
    "plt.xlabel(\"Chỉ số n\")\n",
    "plt.ylabel(\"Biên độ\")\n",
    "plt.subplot(1, 2, 2)\n",
    "plt.stem(n,y)\n",
    "plt.title(\"Tín hiệu ra\")\n",
    "plt.xlabel(\"Chỉ số n\")\n",
    "plt.ylabel(\"Biên độ\")"
   ]
  },
  {
   "cell_type": "markdown",
   "metadata": {
    "colab_type": "text",
    "id": "wi5whhHsvpaG"
   },
   "source": [
    "Bài 2b: <br>\n",
    "> Thực hiện lại bài 2a sử dụng hàm $lfilter$"
   ]
  },
  {
   "cell_type": "code",
   "execution_count": 9,
   "metadata": {
    "colab": {},
    "colab_type": "code",
    "id": "W6NBcDcIvm8p"
   },
   "outputs": [
    {
     "data": {
      "text/plain": [
       "Text(0, 0.5, 'Biên độ')"
      ]
     },
     "execution_count": 9,
     "metadata": {},
     "output_type": "execute_result"
    },
    {
     "data": {
      "image/png": "[encoded data removed]",
      "text/plain": [
       "<Figure size 432x288 with 2 Axes>"
      ]
     },
     "metadata": {
      "needs_background": "light"
     },
     "output_type": "display_data"
    }
   ],
   "source": [
    "n = np.arange(10)\n",
    "x = [1.5, -4, 6, 2.5, -3, 0, 0, 0, 0, 0]\n",
    "a = [1] #Các hệ số của x\n",
    "b = [1.2, -0.85, 1] #Các hệ số của y, lưu ý đến dấu của các hệ số\n",
    "'''\n",
    "a, b là hệ số của phương trình vào ra:\n",
    "\n",
    "a[0]*y[n] = b[0]*x[n] + b[1]*x[n-1] + ... + b[M]*x[n-M]\n",
    "                      - a[1]*y[n-1] - ... - a[N]*y[n-N]\n",
    "Hoặc viết dưới dạng hàm chuyển biến đổi z: b là các hệ số của tử số, a là các hệ số của mẫu số\n",
    "                    -1              -M\n",
    "        b[0] + b[1]z  + ... + b[M] z\n",
    "Y(z) = -------------------------------- X(z)\n",
    "                    -1              -N\n",
    "        a[0] + a[1]z  + ... + a[N] z\n",
    "'''\n",
    "y = signal.lfilter(b, a, x)\n",
    "\n",
    "plt.subplot(1, 2, 1)\n",
    "plt.stem(n,x)\n",
    "plt.title(\"Tín hiệu vào\")\n",
    "plt.xlabel(\"Chỉ số n\")\n",
    "plt.ylabel(\"Biên độ\")\n",
    "plt.subplot(1, 2, 2)\n",
    "plt.stem(n,y)\n",
    "plt.title(\"Tín hiệu ra\")\n",
    "plt.xlabel(\"Chỉ số n\")\n",
    "plt.ylabel(\"Biên độ\")"
   ]
  },
  {
   "cell_type": "markdown",
   "metadata": {
    "colab_type": "text",
    "id": "l1RxSHPMuc5T"
   },
   "source": [
    "Bài 3a: <br>\n",
    "> Đoạn chương sau đây tính và vẽ đáp ứng xung của hệ thống ở bài 2"
   ]
  },
  {
   "cell_type": "code",
   "execution_count": 5,
   "metadata": {
    "colab": {
     "base_uri": "https://localhost:8080/",
     "height": 410
    },
    "colab_type": "code",
    "id": "fXdvQCaruejg",
    "outputId": "06a7deb8-baee-4e41-aed6-f477c97a4e11"
   },
   "outputs": [
    {
     "name": "stdout",
     "output_type": "stream",
     "text": [
      "[ 1.2  -0.85  1.    0.    0.    0.    0.    0.    0.    0.  ]\n"
     ]
    },
    {
     "data": {
      "text/plain": [
       "Text(0,0.5,'Biên độ')"
      ]
     },
     "execution_count": 5,
     "metadata": {},
     "output_type": "execute_result"
    },
    {
     "data": {
      "image/png": "[encoded data removed]",
      "text/plain": [
       "<Figure size 432x288 with 2 Axes>"
      ]
     },
     "metadata": {},
     "output_type": "display_data"
    }
   ],
   "source": [
    "n = np.arange(10)\n",
    "x = signal.unit_impulse(10)\n",
    "a = [1, 0, 0]\n",
    "b = [1.2, -0.85, 1]\n",
    "h = signal.lfilter(b, a, x)\n",
    "print(h)\n",
    "plt.subplot(2, 1, 1)\n",
    "plt.stem(n,x)\n",
    "plt.title(\"Tín hiệu vào\")\n",
    "plt.xlabel(\"Chỉ số n\")\n",
    "plt.ylabel(\"Biên độ\")\n",
    "plt.subplot(2, 1, 2)\n",
    "plt.stem(n,h)\n",
    "plt.title(\"Đáp ứng xung\")\n",
    "plt.xlabel(\"Chỉ số n\")\n",
    "plt.ylabel(\"Biên độ\")"
   ]
  },
  {
   "cell_type": "markdown",
   "metadata": {
    "colab_type": "text",
    "id": "vd7mpfr6wOiq"
   },
   "source": [
    "Bài 3b: (SV tự đọc) <br>\n",
    "> Thực hiện lại với hàm $dimpulse()$"
   ]
  },
  {
   "cell_type": "code",
   "execution_count": 6,
   "metadata": {
    "colab": {
     "base_uri": "https://localhost:8080/",
     "height": 563
    },
    "colab_type": "code",
    "id": "7L5RMDmywSJ6",
    "outputId": "db941c67-814f-4067-d9e9-e0bf5324961e"
   },
   "outputs": [
    {
     "name": "stdout",
     "output_type": "stream",
     "text": [
      "[ 1.2  -0.85  1.    0.    0.    0.    0.    0.    0.    0.  ]\n"
     ]
    },
    {
     "data": {
      "text/plain": [
       "Text(0,0.5,'Biên độ')"
      ]
     },
     "execution_count": 6,
     "metadata": {},
     "output_type": "execute_result"
    },
    {
     "data": {
      "image/png": "[encoded data removed]",
      "text/plain": [
       "<Figure size 432x288 with 2 Axes>"
      ]
     },
     "metadata": {},
     "output_type": "display_data"
    }
   ],
   "source": [
    "n = np.arange(10)\n",
    "x = signal.unit_impulse(10)\n",
    "a = [1, 0, 0]\n",
    "b = [1.2, -0.85, 1]\n",
    "system = (b, a, 1.0) # dt=1.0 là thời gian lấy mẫu của hệ thống (tính bằng giây)\n",
    "t, y = signal.dimpulse(system, n =10) #t là thời gian, y là mảng 2 chiều đáp ứng xung\n",
    "h = y[0].flatten() #Đáp ứng xung\n",
    "print(h)# In ra các giá trị của h\n",
    "plt.subplot(2, 1, 1)\n",
    "plt.stem(n,x)\n",
    "plt.title(\"Tín hiệu vào\")\n",
    "plt.xlabel(\"Chỉ số n\")\n",
    "plt.ylabel(\"Biên độ\")\n",
    "plt.subplot(2, 1, 2)\n",
    "plt.stem(n,h)\n",
    "plt.title(\"Đáp ứng xung\")\n",
    "plt.xlabel(\"Chỉ số n\")\n",
    "plt.ylabel(\"Biên độ\")"
   ]
  },
  {
   "cell_type": "markdown",
   "metadata": {
    "colab_type": "text",
    "id": "oU8Z31ea1qin"
   },
   "source": [
    "Bài 4a: <br>\n",
    "> Cho hệ thống có phương trình hiệu số $y(n) = x(n)+2x(n-1)-x(n-2)+x(n-3)$ và tín hiệu vào $ x = [1.0,1,2,1,2,2,1,1]$ <br>\n",
    "> a. Tìm đáp ứng xung h của hệ thống <br>\n",
    "> b. Tính và vẽ tín hiệu ngõ ra của hệ thống\n"
   ]
  },
  {
   "cell_type": "code",
   "execution_count": null,
   "metadata": {
    "colab": {},
    "colab_type": "code",
    "id": "5lQ8A-Jp3O3J"
   },
   "outputs": [],
   "source": []
  },
  {
   "cell_type": "markdown",
   "metadata": {
    "colab_type": "text",
    "id": "PE5W5xHM3pfv"
   },
   "source": [
    "Bài 4b: <br>\n",
    "> Cho lọc FIR có đáp ứng xung là $h(n) = [0.5, -1.5, 0.85]$ <br>\n",
    "Viết phương trình vào ra của hệ thống"
   ]
  },
  {
   "cell_type": "code",
   "execution_count": null,
   "metadata": {
    "colab": {},
    "colab_type": "code",
    "id": "zbkp9_1X4P4x"
   },
   "outputs": [],
   "source": []
  },
  {
   "cell_type": "markdown",
   "metadata": {
    "colab_type": "text",
    "id": "Z4W4SOk50GrD"
   },
   "source": [
    "Bài 5a: <br>\n",
    "> Cho: <br>\n",
    "$x = [1.5, -4, 6, 2.5, -3, 0, 0, 0, 0, 0] $(Tín hiệu ở câu 2) <br>\n",
    "$h = [ 1.2,  -0.85, 1, 0, 0]$  (Đáp ứng xung ở câu 3)<br>\n",
    "Đoạn chương trình sau thực hiện nhân chập tín hiệu h với tín hiệu x được tín hiệu y. Vẽ tín hiệu x và y vừa tìm được sử dụng $subplot()$\n"
   ]
  },
  {
   "cell_type": "code",
   "execution_count": 9,
   "metadata": {
    "colab": {
     "base_uri": "https://localhost:8080/",
     "height": 410
    },
    "colab_type": "code",
    "id": "EsLBtCAD3a88",
    "outputId": "813687be-5f5c-4a9a-ef20-c8f1890f57b9"
   },
   "outputs": [
    {
     "name": "stdout",
     "output_type": "stream",
     "text": [
      "[ 1.8   -6.075 12.1   -6.1    0.275  5.05  -3.     0.     0.     0.   ]\n"
     ]
    },
    {
     "data": {
      "text/plain": [
       "Text(0,0.5,'Biên độ')"
      ]
     },
     "execution_count": 9,
     "metadata": {},
     "output_type": "execute_result"
    },
    {
     "data": {
      "image/png": "[encoded data removed]",
      "text/plain": [
       "<Figure size 432x288 with 2 Axes>"
      ]
     },
     "metadata": {},
     "output_type": "display_data"
    }
   ],
   "source": [
    "n = np.arange(10)\n",
    "x = [1.5, -4, 6, 2.5, -3, 0, 0, 0, 0, 0]\n",
    "h = [ 1.2, -0.85, 1, 0, 0] \n",
    "y = np.zeros(10)\n",
    "for i in range(10):\n",
    "    for j in range(3):\n",
    "        if i>= j:\n",
    "            y[i] = y[i] + h[j]*x[i-j]\n",
    "print(y) # Xem kết quả\n",
    "plt.subplot(2, 1, 1)\n",
    "plt.stem(n,x)\n",
    "plt.title(\"Tín hiệu vào\")\n",
    "plt.xlabel(\"Chỉ số n\")\n",
    "plt.ylabel(\"Biên độ\")\n",
    "plt.subplot(2, 1, 2)\n",
    "plt.stem(n,y)\n",
    "plt.title(\"Tín hiệu ra\")\n",
    "plt.xlabel(\"Chỉ số n\")\n",
    "plt.ylabel(\"Biên độ\")"
   ]
  },
  {
   "cell_type": "markdown",
   "metadata": {
    "colab_type": "text",
    "id": "vDTP0VdAD8sh"
   },
   "source": [
    "Bài 5b: <br>\n",
    "> Thực hiện lại bài 4a với hàm $convolve()$ từ thư viện $signal$"
   ]
  },
  {
   "cell_type": "code",
   "execution_count": 10,
   "metadata": {
    "colab": {
     "base_uri": "https://localhost:8080/",
     "height": 410
    },
    "colab_type": "code",
    "id": "BYd2mC-WFV6J",
    "outputId": "6577c223-a40c-46aa-a1c1-bdf2b5a482e2"
   },
   "outputs": [
    {
     "name": "stdout",
     "output_type": "stream",
     "text": [
      "[ 1.8   -6.075 12.1   -6.1    0.275  5.05  -3.     0.     0.     0.   ]\n"
     ]
    },
    {
     "data": {
      "text/plain": [
       "Text(0,0.5,'Biên độ')"
      ]
     },
     "execution_count": 10,
     "metadata": {},
     "output_type": "execute_result"
    },
    {
     "data": {
      "image/png": "[encoded data removed]",
      "text/plain": [
       "<Figure size 432x288 with 2 Axes>"
      ]
     },
     "metadata": {},
     "output_type": "display_data"
    }
   ],
   "source": [
    "n = np.arange(10)\n",
    "x = [1.5, -4, 6, 2.5, -3, 0, 0, 0, 0, 0]\n",
    "h = [ 1.2, -0.85, 1, 0, 0, 0, 0, 0, 0, 0] \n",
    "y = signal.convolve(x, h, mode='full')\n",
    "y = y[:10]\n",
    "print(y) # Xem kết quả\n",
    "plt.subplot(2, 1, 1)\n",
    "plt.stem(n,x)\n",
    "plt.title(\"Tín hiệu vào\")\n",
    "plt.xlabel(\"Chỉ số n\")\n",
    "plt.ylabel(\"Biên độ\")\n",
    "plt.subplot(2, 1, 2)\n",
    "plt.stem(n,y)\n",
    "plt.title(\"Tín hiệu ra\")\n",
    "plt.xlabel(\"Chỉ số n\")\n",
    "plt.ylabel(\"Biên độ\")"
   ]
  },
  {
   "cell_type": "markdown",
   "metadata": {
    "colab_type": "text",
    "id": "L3j_Z2Z-MVtP"
   },
   "source": [
    "Bài 6a: <br>\n",
    "> Bộ lọc thấp qua có phương trình tín hiệu vào ra: $$y(n)=\\frac{1}{M}\\sum_{k=0}^{M-1}x(n-k)$$ <br>\n",
    "> a. Viết phương trình vào ra của bộ lọc khi M = 2 <br>\n",
    "> b. Tìm đáp ứng xung h của bộ lọc <br>\n",
    "> c. Tìm các hệ số a và b của hệ thống"
   ]
  },
  {
   "cell_type": "code",
   "execution_count": null,
   "metadata": {
    "colab": {},
    "colab_type": "code",
    "id": "xAjVYqTnNArL"
   },
   "outputs": [],
   "source": []
  },
  {
   "cell_type": "markdown",
   "metadata": {
    "colab_type": "text",
    "id": "DyYoftXoPOaN"
   },
   "source": [
    "Bài 6b: <br>\n",
    "> Tạo và vẽ tín hiệu s tổng hợp từ 2 tín hiệu sin s1 và s2 (fs = 10Hz, t = 50)như sau:\n",
    ">> s1: f1 = 0.05Hz, a1 = 1,  pha ban đầu = 0 <br>\n",
    ">> s2: f2 = 1Hz, a2 = 0.5,  pha ban đầu = 0 <br>\n",
    "\n",
    "> Hướng dẫn: tạo s1 bằng câu lệnh: $s1 =  a1*np.sin(2*np.pi*f*n)$"
   ]
  },
  {
   "cell_type": "code",
   "execution_count": null,
   "metadata": {
    "colab": {},
    "colab_type": "code",
    "id": "n8U4Hj59QnAE"
   },
   "outputs": [],
   "source": []
  },
  {
   "cell_type": "markdown",
   "metadata": {
    "colab_type": "text",
    "id": "wAWXDFpbQyvn"
   },
   "source": [
    "Bài 6c: <br>\n",
    "> Thực hiện lọc tín hiệu s với bộ lọc ở câu 6a (M= 10), sử dụng hàm $lfilter()$. Vẽ tín hiệu s1, s2, s và tín hiệu ra y sử dụng subplot() và plot()<br>\n",
    "Nhận xét tính hiệu y và s1"
   ]
  },
  {
   "cell_type": "code",
   "execution_count": null,
   "metadata": {
    "colab": {},
    "colab_type": "code",
    "id": "3fuumljVRhSB"
   },
   "outputs": [],
   "source": []
  },
  {
   "cell_type": "markdown",
   "metadata": {
    "colab_type": "text",
    "id": "GSGbUwBzRiC7"
   },
   "source": [
    "Bài 6d: <br>\n",
    "Thực hiện lọc tín hiệu s với bộ lọc ở câu 6a, sử dụng nhân chập từ hàm convolve(). Vẽ tín hiệu s1, s2, s và tín hiệu ra y sử dụng subplot() và plot()"
   ]
  },
  {
   "cell_type": "code",
   "execution_count": null,
   "metadata": {
    "colab": {},
    "colab_type": "code",
    "id": "-FMH_d0nRs9Y"
   },
   "outputs": [],
   "source": []
  },
  {
   "cell_type": "markdown",
   "metadata": {
    "colab_type": "text",
    "id": "KCOiXPqlSQNT"
   },
   "source": [
    "Bài 6e: <br>\n",
    "Thay đổi M từ 10 thành 15, 20, 35 và nhận xét tín hiệu ngõ ra"
   ]
  },
  {
   "cell_type": "code",
   "execution_count": null,
   "metadata": {
    "colab": {},
    "colab_type": "code",
    "id": "M3CdUKI0SZum"
   },
   "outputs": [],
   "source": []
  },
  {
   "cell_type": "markdown",
   "metadata": {
    "colab_type": "text",
    "id": "VF-zu46YSqoS"
   },
   "source": [
    "Bài 6f: <br>\n",
    "Cho M = 15, cho s2 = 0, thay đổi f1 = 0.2Hz. Vẽ tín hiệu ngõ ra. Nhận xét?"
   ]
  },
  {
   "cell_type": "code",
   "execution_count": null,
   "metadata": {
    "colab": {},
    "colab_type": "code",
    "id": "cLs0nTJMS-O6"
   },
   "outputs": [],
   "source": []
  },
  {
   "cell_type": "markdown",
   "metadata": {
    "colab_type": "text",
    "id": "kW9kMHObS_Ge"
   },
   "source": [
    "Bài 6g: <br>\n",
    "Cho M = 15, cho s2 = 0, thay đổi f1 = 0.5Hz. Vẽ tín hiệu ngõ ra. Nhận xét?\n"
   ]
  },
  {
   "cell_type": "code",
   "execution_count": null,
   "metadata": {
    "colab": {},
    "colab_type": "code",
    "id": "mUvEvon4TvN5"
   },
   "outputs": [],
   "source": []
  },
  {
   "cell_type": "markdown",
   "metadata": {
    "colab_type": "text",
    "id": "Jb0bGhKjTvsk"
   },
   "source": [
    "Bài 7: <br>\n",
    "> Cho tín hiệu được tạo bằng Python như sau:<br>\n",
    "n = np.arange(300)/256 <br>\n",
    "x = np.cos(2\\*np.pi\\*10\\*n) + np.cos(2\\*np.pi\\*100\\*n)<br>\n",
    "> Cho 2 hệ thống, điều kiện ban đầu $ y(−2) = y(−1) = 0$:<br>\n",
    ">> H1: $ y(n) = 0.5x(n) + 0.27x(n−1) + 0.77x(n−2) $<br>\n",
    ">> H2: $y(n) = 0.45x(n)+0.5x(n−1)+0.45x(n−2)+0.53y(n−1)−0.46y(n−2)$ <br>\n",
    "\n",
    "> a. Cho biết tần số lấy mẫu fs của tín hiệu x <br>\n",
    "> b. Tìm và vẽ tín hiệu ngõ ra của 2 hệ thống khi tín hiệu vào là x <br>\n",
    "> c. Nhận xét\n"
   ]
  },
  {
   "cell_type": "code",
   "execution_count": null,
   "metadata": {
    "colab": {},
    "colab_type": "code",
    "id": "oe_b7OZKUQ1Z"
   },
   "outputs": [],
   "source": []
  }
 ],
 "metadata": {
  "colab": {
   "collapsed_sections": [],
   "name": "Lab2.ipynb",
   "provenance": [],
   "version": "0.3.2"
  },
  "kernelspec": {
   "display_name": "Python 3 (ipykernel)",
   "language": "python",
   "name": "python3"
  },
  "language_info": {
   "codemirror_mode": {
    "name": "ipython",
    "version": 3
   },
   "file_extension": ".py",
   "mimetype": "text/x-python",
   "name": "python",
   "nbconvert_exporter": "python",
   "pygments_lexer": "ipython3",
   "version": "3.9.12"
  }
 },
 "nbformat": 4,
 "nbformat_minor": 1
}
